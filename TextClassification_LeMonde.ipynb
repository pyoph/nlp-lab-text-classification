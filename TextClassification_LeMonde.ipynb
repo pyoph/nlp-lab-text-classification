{
  "cells": [
    {
      "cell_type": "markdown",
      "metadata": {
        "id": "view-in-github",
        "colab_type": "text"
      },
      "source": [
        "<a href=\"https://colab.research.google.com/github/pyoph/nlp-lab-text-classification/blob/main/TextClassification_LeMonde.ipynb\" target=\"_parent\"><img src=\"https://colab.research.google.com/assets/colab-badge.svg\" alt=\"Open In Colab\"/></a>"
      ]
    },
    {
      "cell_type": "markdown",
      "metadata": {
        "id": "cgDeK-2MZWVE"
      },
      "source": [
        "## Text classification on LeMonde2003 Dataset\n",
        "\n",
        "In this notebook, we\n",
        "apply classification algorithms to newspaper articles published in 2003 in *Le Monde*.\n",
        "\n",
        "The data are here : https://cloud.teklia.com/index.php/s/isNwnwA7a7AWst6/download/LeMonde2003_9classes.csv.gz\n",
        "\n",
        "Download it into the data directory :\n",
        "\n",
        "```\n",
        "wget https://cloud.teklia.com/index.php/s/isNwnwA7a7AWst6/download/LeMonde2003_9classes.csv.gz\n",
        "```\n",
        "\n",
        "Or you can download the file directly from the URL in pandas with `pd.read_csv(url)`.`\n",
        "\n",
        "These articles concern different subjects but we will consider only articles related to the following subjects : entreprises (ENT), international (INT), arts (ART), société (SOC), France (FRA), sports (SPO), livres (LIV), télévision (TEL) and the font page articles (UNE).\n",
        "\n",
        "\n",
        "> * Load the CSV file `LeMonde2003_9classes.csv.gz` containing the articles using pandas [pd.read_csv](https://pandas.pydata.org/pandas-docs/stable/reference/api/pandas.read_csv.html). How many articles do you have ?\n",
        "> * Plot the frequency histogram of the categories using seaborn [countplot](https://seaborn.pydata.org/tutorial/categorical.html) : `sns.countplot(data=df,y='category')`\n",
        "> * Display the text of some of the article with the corresponding class using pandas [sample](https://pandas.pydata.org/pandas-docs/stable/reference/api/pandas.DataFrame.sample.html)\n",
        "> * Using the [WordCloud library](https://amueller.github.io/word_cloud/index.html), display a word cloud for the most frequent classes. You can remove the stop words using the `stopwords` option, using the list of stop words in French in `data/stop_word_fr.txt` or from the URL https://cloud.teklia.com/index.php/s/3mwZfSre4PmJcdb/download/stop_word_fr.txt\n",
        "\n"
      ]
    },
    {
      "cell_type": "code",
      "execution_count": 3,
      "metadata": {
        "id": "zuVKjfqVZWVG"
      },
      "outputs": [],
      "source": [
        "import pandas as pd\n",
        "\n",
        "lemonde = pd.read_csv(\"https://cloud.teklia.com/index.php/s/isNwnwA7a7AWst6/download/LeMonde2003_9classes.csv.gz\")\n"
      ]
    },
    {
      "cell_type": "code",
      "execution_count": 4,
      "metadata": {
        "colab": {
          "base_uri": "https://localhost:8080/",
          "height": 466
        },
        "id": "z-PQR5aOZWVH",
        "outputId": "4ba711b5-73b3-4460-f7e9-f368db9fb8e2"
      },
      "outputs": [
        {
          "output_type": "execute_result",
          "data": {
            "text/plain": [
              "<Axes: xlabel='count', ylabel='category'>"
            ]
          },
          "metadata": {},
          "execution_count": 4
        },
        {
          "output_type": "display_data",
          "data": {
            "text/plain": [
              "<Figure size 640x480 with 1 Axes>"
            ],
            "image/png": "[encoded data removed]"
          },
          "metadata": {}
        }
      ],
      "source": [
        "import seaborn as sns\n",
        "%matplotlib inline\n",
        "\n",
        "# Plot the statistics of category\n",
        "sns.countplot(data=lemonde,y='category')"
      ]
    },
    {
      "cell_type": "code",
      "execution_count": 6,
      "metadata": {
        "colab": {
          "base_uri": "https://localhost:8080/",
          "height": 1000
        },
        "id": "4rXZNiqNZWVH",
        "outputId": "fc0dd776-89cb-4e19-a390-9b1a37f90821"
      },
      "outputs": [
        {
          "output_type": "execute_result",
          "data": {
            "text/plain": [
              "                                                                                                                                                                                                                                                                                                                                                                                                                                                                                                                                                                                                                                                                                                                                                                                                                                                                                                                                                                                                                                                                                                                                                                                                                                                                                                                                                                                                                                                                                                                                                                                                                                                                                                                                                                                                                                                                                                                                                                                                                                                                                                                                                                                                                                                                                                                                                                                                                                                                                                                                                                                                                                                                                                                                                                                                                                                                                                                                                                                                                                                                                                                                                                                                                                                                                                                                                                                                                                                                                                                                                                                                                                                                                                                                                                                                                                                                                                                                                                                                                                                                                                                                                                                                                                                                                                                                                                                                                                                                                                                                                                                                                                                                                                                                                                                                                                                                                                                                                                                                                                                                                                                                                                                                                                                                                                                                                                                                                                                                                                                                                                                       text  \\\n",
              "16369                                                                                                                                                                                                                                                                                                                                                                                                                                                                                                                                                                                                                                                                                                                                                                                                                                                                                                                                                                                                                                                                                                                                                                                                                                                                                                                                                                                                                                                                                                                                                                                                                                                                                                                                                                                                                                                                                                                                                                                                                                                                                                                                                                                                                                                                                                                                                                                                                                                                                                                                                                                                                                                                                                                                                                                                                                                                                                                                                                                                                                                                                                                                                                                                                                                                                                                                                                                                                                                                                                                                                                                                                                                                                                                                                                                                                                                                                                                                                                                                                                                                                                                                                                                                                     dans une lettre adressée au président de la commission européenne romano prodi le président de la république jacques chirac juge que certaines nouvelles normes comptables en cours d'adoption dans l'union européenne pour harmoniser les comptes des entreprises risquent de conduire à une financiarisation accrue de notre économie et à des méthodes de direction des entreprises privilégiant trop le court terme ces normes international accounting standards ias pourraient être applicables en 2005 pour 7 000 sociétés cotées la position de m. chirac reprend l'opinion de nombre de dirigeants qui craignent que la généralisation de la mesure des actifs à leur valeur de marché la juste valeur à chaque arrêté des comptes ne nourrisse la volatilité des bourses la commission qui partage la position française a précisé qu'elle venait à nouveau d'exprimer ses préoccupations dans une lettre à david tweedie président de l'organisme privé chargé d'élaborer ces normes l'international accounting standard board iasb celui-ci a répliqué dans le financial times que la crédibilité de l'iasb serait entachée si elle cédait aux pressions politiques le 16 juillet l'autorité de régulation comptable qui regroupe des représentants des quinze doit approuver ou non ces normes pour qu'elles deviennent juridiquement contraignantes   \n",
              "1755                                                                                                                                                                                                                                                                                                                                                                                                                                                                                                                                                                                                                                                                                                                                                                                                                                                                                                                                                                                                                                                                                                                                                                                                                                                                                                                                                                                                                                                                                                                                                                                                                                                                                                                                                                                                                                                                                                                                                                                                                                                                                                                                                                                                                                                                                                                                                                                                                                                                                                                                                                                                                                                                                                                                                                                                                                                                                                                                                    galeriste à droebak près d'oslo vera olsnes va mettre en vente soixante-dix oeuvres de paul-rené gauguin mort en 1976 petit-fils du peintre paul gauguin qui s'était installé en norvège le produit de cette vente est destiné à financer des actions de la clinique saint-raphaël de bagdad administrée par des soeurs dominicaines le prix des peintures collages et statues de paul-rené gauguin devrait varier de 600 à 10 000 euros on peut voir quelques exemples du travail de l'artiste sur le site internet de la galleri vera www.verart.com le chanteur batteur acteur scénariste et réalisateur américain billy bob thornton s'apprête à se marier pour la sixième fois selon le magazine us weekly la nouvelle heureuse élue est danielle dotzenrod ancienne joueuse de volley-ball et actrice apparemment pas découragée par la propension de thornton à divorcer rapidement a l'exception de sa quatrième femme pietra dawn cherniak avec qui il a vécu plus de quatre ans de février 1993 à avril 1997 thornton n'a pas dépassé deux ans de vie maritale avec ses différentes épouses la dernière en date était l'actrice angelina jolie avec qui il s'était marié en mai 2000 le couple s'était séparé en juillet 2002 mais le jugement de divorce n'a toujours pas été officiellement prononcé la chanteuse américaine madonna et son dernier film swept away a la dérive réalisé par son mari guy ritchie ont triomphé samedi à la cérémonie des framboises d'or prix satiriques qui récompensent chaque année depuis vingt-trois ans à la veille des oscars les film et acteurs jugés les plus mauvais madonna l'a emporté dans la catégorie pire actrice ex aequo avec la chanteuse britney spears dans crossroad swept away a remporté le prix du pire film et du pire remake tandis que guy ritchie était désigné pire réalisateur la framboise d'or du pire acteur est allé à l'italien roberto benigni dans pinocchio l'écrivain espagnol jorge semprun et l'écrivain tchèque lenka reinerova ont reçu samedi 22 mars à weimar les médailles goethe 2003 qui récompensent des auteurs ayant oeuvré pour la promotion de la langue allemande et le dialogue entre les cultures jorge semprun ancien déporté au camp d'extermination nazi de buchenwald est distingué pour son engagement en faveur de l'identité européenne lenka reinerova dernier écrivain tchèque de praque à écrire en allemand est récompensée pour son importante contribution à la tolérance culturelle linguistique et religieuse a indiqué le jury reinerova née à prague en 1916 avait dû fuir son pays en 1939 à cause des nazis   \n",
              "28946                                                                                                                                                                                                                                                                                                                                                                                                                                                                                                                                                                                                                                                                                                                                                                                                                                                                                                                                                                                                                                                                                                                                                                                                                                                                                                                                                                                                                                                                                                                                                                                                                                                                                                                                                                                                                                                                                                                                                                                                                                                                                                                                                                                                                                                                                                                                                           les capitales européennes ont appelé lundi 29 décembre l'ensemble des forces démocratiques serbes à s'unir alors que la commission électorale confirmait la victoire du parti radical srs aux élections législatives de dimanche avec 81 sièges 27,3 des voix les ultranationalistes sont désormais les mieux représentés au parlement serbe devançant le parti démocratique de serbie dss de vojislav kostunica de 9 sièges 53 sièges 17,8 des voix tout en prenant note des résultats du scrutin notamment d'une participation plus importante que prévu 58,7 la commission européenne a émis lundi l'espoir qu'un gouvernement va émerger qui restera engagé dans le processus de réformes et sur le chemin de l'europe le porte-parole du ministère français des affaires étrangères a de son côté appelé les forces démocratiques à s'entendre rapidement pour former un gouvernement qui ait les moyens de poursuivre les réformes politiques économiques et sociales la tonalité était la même lundi à berlin où la ministre allemande de la coopération et du développement heidemarie wieczorek-zeul a manifesté une grande inquiétude au vu des résultats du scrutin lourd revers un sentiment partagé par javier solana le chef de la diplomatie européenne qui a appelé toutes les forces démocratiques à travailler ensemble pour s'assurer qu'un nouveau gouvernement avec des objectifs de réformes pro-européennes puisse être rapidement mis en place le message envoyé par la population serbe est un lourd revers pour la démocratie et pour l'europe le parti démocratique ds du premier ministre réformiste et pro-occidental assassiné zoran djindjic n'a remporté que 12,7 des votes et 37 sièges et le g17+ un groupement d'économistes libéraux de miroljub labus 11,6 des voix et 34 sièges par ailleurs l'europe devra attendre pour voir la serbie tourner le dos une fois pour toutes au nationalisme le chef de file le mieux représenté au parlement est vojislav seselj détenu à la haye tout comme slobodan milosevic inculpé de crimes de guerre et lui aussi élu député son parti le sps remportant 7,6 des voix et 22 sièges pour milanka saponja une analyste de l'international crisis group icg la percée des ultra-nationalistes constitue le plus grand défi adressé à l'europe depuis le refus en 1999 de slobodan milosevic alors président de la yougoslavie de retirer ses troupes du kosovo le parti radical a invité le parti démocratique serbe de vojislav kostunica à former un gouvernement de toute évidence son programme et le nôtre ont beaucoup de points communs qui nous permettraient de former le futur gouvernement a déclaré tomislav nikolic qui dirige les radicaux en l'absence de leur leader m. kostunica qui se définit lui-même comme un nationaliste modéré a réaffirmé qu'il ne formerait jamais une coalition avec les radicaux le parti radical pourrait alors s'allier avec les autres ultras une hypothèse que washington n'envisage pas il est probable que tout futur gouvernement sera issu de la majorité des partis de la transition démocratique a déclaré lundi le porte-parole du département d'etat américain adam ereli afp reuters ap   \n",
              "20311                                                                                                                                                                                                                                                                                                                                                                                                                                                                                                                                                                                                                                                                                                                                                                                                                                                                                                                                                                                                                                                                                                                                                                                                                                                                                                                                                                                                                                                                                                                                                                                                                                                                                                                                                                                                                                                                                                                                                                                                                                                                                                                                                                                                                                                                                                                                                                                                                                                                                                                                                                                                                                                                                                                                                                                                                                                                                                                                                                                                                                                                                                                                                                                                                                                                                                                                                                                                                                                                                                                                                                                                                                                                                                                                                                                                                                                                                                                                                                                                                                                                                                                                                                                                                                                                                                                                                                                                                                                                                                                                                                                                                                                                                                                                                                                                                                                                                                                                                                                                                                                                                                                                                                                                                                                                                                                                                                                                                                  le pétrolier français a décidé de se retirer du marché de détail de l'électricité où il était présent depuis 2001 pour se recentrer sur celui du gaz   \n",
              "29635                                                                                                                                                                                                                                                                                                                                                                                                                                                                                                                                                                                                                                                                                                                                                                                                                                                                                                                                                                                                                                                                                                                                                                                                                                                                                                                                                                                                                                                                                                                                                                                                                                                                                                                                                                                                                                                                                                                                                                                                                                                                                                                                                                                                                                                                                                                                                                                                                                                                                                                                                                                                                                                                                                                                                                                                                                                                                                                                                                                                                                                                                                                                                                                                                                                                                                                                                                                                                                                                                                                                                                                                                                                                                                                                                                                                                                                                                                                                                                                                                                                                                                                                          genève le directeur général de l'omc supachai panitchpadki a admis mardi 9 décembre que l'organisation ne parviendra pas à un accord d'ici au 15 décembre après l'échec de la conférence de cancun en septembre les ministres avaient donné pour instruction à leurs ambassadeurs de parvenir à un compromis au plus tard à cette date pour permettre une relance des négociations multilatérales carlos perez del castillo qui préside le conseil général l'exécutif de l'omc et à ce titre dirige les négociations a confirmé le peu de progrès réalisés sur la voie d'une relance totale et reconnu qu'il faudra davantage de temps les discussions butent toujours sur l'agriculture les pays en développement exigeant que les pays riches éliminent leurs subventions à l'exportation comme ils avaient promis de le faire à doha l'union européenne refuse de faire plus de concessions que celle déjà annoncées dans le cadre de la réforme de la politique agricole commune pac le négociateur européen pascal lamy a toutefois indiqué que l'ue était prête à bouger sur certains sujets conflictuels comme ceux dits de singapour investissement concurrence facilitation du commerce et marchés publics le conseil général se réunira bien le 15 décembre comme prévu mais ne devait annoncer que la réactivation des huit groupes de négociations thématiques suspendus depuis cancun qui se réuniront à nouveau en février afp   \n",
              "...                                                                                                                                                                                                                                                                                                                                                                                                                                                                                                                                                                                                                                                                                                                                                                                                                                                                                                                                                                                                                                                                                                                                                                                                                                                                                                                                                                                                                                                                                                                                                                                                                                                                                                                                                                                                                                                                                                                                                                                                                                                                                                                                                                                                                                                                                                                                                                                                                                                                                                                                                                                                                                                                                                                                                                                                                                                                                                                                                                                                                                                                                                                                                                                                                                                                                                                                                                                                                                                                                                                                                                                                                                                                                                                                                                                                                                                                                                                                                                                                                                                                                                                                                                                                                                                                                                                                                                                                                                                                                                                                                                                                                                                                                                                                                                                                                                                                                                                                                                                                                                                                                                                                                                                                                                                                                                                                                                                                                                                                                                                                                                                     ...   \n",
              "23181                                                                                                                                                                                                                                                                                                                                                                                                                                                                                                                                                                              la vie de surdoué n'est pas toujours aisée en nba le championnat de basket-ball professionnel américain où l'esprit de compétition est roi les exigences sont impressionnantes voilà pourquoi la tâche de tony parker le jeune meneur de jeu français des san antonio spurs n'est pas des plus faciles enorme surprise de la saison 2001-2002 qui vit ses débuts outre-atlantique il avait du haut de ses dix-neuf ans sidéré tous les observateurs par une vitesse et une maturité peu communes inconnu de la quasi-totalité des équipes le farfadet s'était fait un plaisir de disloquer les défenses adverses depuis la donne a quelque peu changé il y a beaucoup de pression maintenant les équipes me connaissent elles savent ce que j'aime faire les défenses sont plus serrées et c'est donc à moi de m'adapter maintenant explique tony parker je dois travailler en conséquence et faire évoluer mon jeu toujours en délicatesse avec son tir extérieur malgré de studieuses sessions estivales ses performances ont pesé très lourd sur le parcours de son équipe prétendante au titre la franchise texane éprouve toutes les difficultés à afficher une certaine régularité début décembre 2002 un bilan pourtant correct de 11 victoires pour 8 défaites avait provoqué quelques grincements de dents au sein de la direction et des fans j'ai été surpris de les voir peiner de la sorte confesse sean elliott joueur des spurs lors du titre obtenu en 1999 aujourd'hui commentateur sur la chaîne abc mais le niveau dans la ligue est de plus en plus serré tout le monde peut battre tout le monde toutes les équipes savent que lorsque vous arrêtez tim duncan la star de l'équipe cela bloque complètement le jeu des spurs fébrile aux lancers francs l'intérieur de san antonio mvp most valuable player meilleur joueur en titre tout en produisant de très bonnes statistiques n'affichait pas son aisance habituelle l'homme à tout faire des spurs a dû en plus composer avec un léger remaniement de l'équipe survenu pendant l'intersaison avec trois nouvelles adjonctions malgré cela c'est tony parker par sa position de chef d'orchestre qui a été mis sur le banc des accusés responsabilités énormes c'est moi qui prends toutes les critiques les gens attendent beaucoup les fans les coaches les dirigeants les journalistes tout le monde explique tony parker mais je le vis bien tout en reconnaissant les mérites de sa jeune star l'équipe technique des spurs stigmatise les scories encore présentes dans son jeu le vrai souci avec tony c'est qu'il y a des fois où après un premier quart temps où il n'a pas bien tiré il a tendance à baisser la tête et à ne plus avoir d'inspiration analyse mike brown assistant coach à san antonio mais il a des responsabilités énormes au regard de sa position il est une sorte de prolongation du coach sur le terrain c'est lui la tête pensante de l'équipe même si tout ne va pas bien dans sa vie dans son jeu il doit simuler le bien-être sinon il entraîne son équipe vers le bas aspirations offensives bridées a la décharge de tony parker évoluer dans le système rigoriste de l'entraîneur des spurs greg popovich n'est pas chose facile pour un meneur créatif seul joueur en dehors de tim duncan capable de créer son shoot et de marquer quand il le décide l'ancien stagiaire de l'insep institut national des sports et de l'éducation physique dans le bois de vincennes à paris n'a pourtant aucun système offensif conçu pour lui quand des meneurs chevronnés gary payton seattle jason kidd new jersey ou steve nash dallas disposent d'une totale liberté en attaque tony parker voit ses aspirations offensives bridées difficile dans ces conditions de trouver son rythme une fois sur les parquets leader par ses actions plus que par sa parole tony parker se voit également demander par son coach de forcer sa nature et de ne pas hésiter à l'occasion à réprimander tim duncan et david robinson vedettes régulièrement choisies parmi les all stars de nba c'est un travail difficile reconnaît le bras droit de popovich mike brown parce qu'il ne doit pas hésiter à leur hurler dessus de temps en temps et ce n'est pas évident pour lui il n'est pas encore bon dans ce secteur il doit se faire violence et les remettre à leur place quand ils ne jouent pas bien depuis deux semaines san antonio emmené par un tony parker pétillant a retrouvé une certaine constance avec un bilan de 20 victoires pour 13 défaites la 2e place de la conférence ouest et des succès de prestige sur des gros bras tels dallas et sacramento il faut laisser tony parker tranquille dit sean elliott il faut le laisser jouer parce qu'il connaît bien le jeu je n'ai jamais vu un joueur comme lui il est unique il a tout pour devenir un all star il a un feeling incroyable il sait quoi faire et à quel moment c'est un don et peu de personnes de son âge le possèdent   \n",
              "700         jamais l'amérique n'a été aussi divisée sur la politique étrangère depuis la guerre du vietnam au texas dans le fief de george bush c'est encore plus dur mais nous ne sommes pas tous des va-t-en-guerre lisa krebs est une étudiante de 21 ans de l'université du texas à austin comme toute sa génération ou presque elle a découvert la politique ces derniers mois l'irak est devenu le sujet de conversation principal dit-elle loin du texas de la bible et du fusil austin capitale de l'etat ville universitaire artistique scène musicale réputée surnommée silicon hills les collines de silicone au moment de l'explosion de la nouvelle économie revendique sa différence a 150 km du ranch de george bush son conseil municipal a voté au début du mois de février à l'unanimité une résolution symbolique demandant au gouvernement de ne pas attaquer l'irak plus de 10 000 personnes ont manifesté le 15 février contre la guerre aujourd'hui encore sur les pelouses de l'université dans la multitude de restaurants et bars aux alentours la ferveur anti-guerre est omniprésente le contraste est violent avec dallas san antonio ou houston le texas du big business et des eglises évangélistes l'etat plus grand que la france dont george bush a été gouverneur de 1994 à 2000 reste celui des exécutions capitales et des prêcheurs annonçant l'apocalypse dans leur grande majorité les autorités religieuses condamnent une attaque contre bagdad à l'exception de la southern baptist convention convention baptiste du sud qui recommande à ses 16 millions de membres d'envoyer des lettres d'encouragement à la maison blanche et de multiples eglises et sectes évangélistes qui pullulent au texas nous ne vivons pas dans l'univers du relativisme européen où les valeurs morales n'ont plus grand sens et les dictateurs sont préférés aux démocrates affirme richard land président de la commission sur l'éthique et les libertés religieuses de la southern baptist convention nous croyons profondément que certains actes sont bons et d'autres mauvais certains prêches texans comparent aujourd'hui l'union européenne à l'une des têtes du dragon du livre des révélations et les nations unies à la bête au service de l'antéchrist ces discours s'adressent surtout à quelques illuminés mais les etats-unis sont profondément religieux selon un récent sondage publié 46 des américains se décrivent comme né à nouveau ou évangélique en 1999 une autre étude d'opinion publiée par newsweek montrait que 71 des protestants évangéliques croyaient à l'apocalypse à la fin de ce monde lors d'une bataille à armageddon le nom déformé de la ville du nord d'israël de megiddo entre jésus et l'antéchrist la doctrine établie au xixe siècle par le pasteur irlandais john nelson darby a été adoptée par la plupart des eglises et des sectes protestantes fondamentalistes darrell bock professeur enseignant le nouveau testament au très austère dallas theological seminary séminaire théologique de dallas insiste sur le sentiment de nombreux chrétiens américains de vivre aujourd'hui un affrontement de civilisations avec l'islam il y a dans l'histoire récente une longue série de violences de l'islam envers les chrétiens et les juifs dit-il evidemment les attentats du 11 septembre ont contribué à élargir le fossé car ils sont revendiqués comme un acte religieux le dallas theological seminary considère que l'interprétation des écritures de john nelson darby est la bonne je ne crois pas qu'une guerre avec l'irak ait un lien direct avec armageddon estime robert hymers l'un des fondateurs de l'eglise fundamentalist baptist tabernacle c'est seulement une étape ajoute-t-il pour dailey smith autre pasteur de dallas une guerre pour chasser saddam hussein semble tout simplement juste et légitime quels que soient les liens entre al-qaida et saddam hussein ce dernier a démontré par le passé que cela ne le gênait pas de soutenir des organisations terroristes il est imprudent pour le gouvernement dont la mission est de protéger la population de parier sur la bonne volonté de saddam hussein nous encourageons ceux qui contestent la guerre à se rappeler les événements horribles du 11 septembre 2001 et à se plonger dans les écritures déclare ronn torossian responsable de la communication de la christian coalition coalition chrétienne un groupe créé par le célèbre télévangéliste pat robertson sans surprise à austin sur le campus de l'université le ton est très différent a en croire ses membres la campus coalition for peace and justice coalition du campus pour la paix et la justice ne cesse de recruter de nouveaux adhérents les gens commencent à se rendre compte que bombarder et tuer des civils innocents n'est pas forcément la meilleure chose à faire explique robert jensen étudiant en journalisme activiste spirituelle quiconque n'est pas d'accord est antipatriotique ou se trouve associé aux forces du mal s'emporte aliah selah qui se décrit comme une activiste spirituelle elle a décidé de faire l'amour seulement avec ceux qui font la paix et propose de faire fonctionner les automobiles à l'huile de soja moins folklorique david peterson étudiant en informatique se veut optimiste les sondages montrent qu'en dépit du matraquage 38 des personnes sont opposées à la guerre cela en fait d'ores et déjà l'opération militaire la plus impopulaire aux etats-unis de l'histoire avant qu'elle ait commencé   \n",
              "9467                                                                                                                                                                                                                                                                                                                                                                                                                                                                                                                                                                                                                                                                                                                                                                                                                                                                                                                                                                                                                                                                                                                                                                                                                                                                                                                                                                                                                                                                                                                                                                                                                                                                                                                                                                                                                                                                                                                                                                                                                                                                                                                                                                                                                                                                                                                                                                                                                                                                                                                                                                                                                                                                                                                                                                                                                                                                                                                                                                                                                                                                                                                                                                                                                                                                                                                                                                                                                                                                                                                                                                                                                                                                                                                                                                                                                                                                                                                                                                                                                                                                                                                                                                                                                                                                                                                                                                                                                                                                                                                                                l'ancien premier ministre alain juppé a été interrogé en qualité de témoin le 14 janvier par le juge parisien philippe courroye dans le cadre de l'affaire falcone l'enquête sur les ventes d'armes vers l'angola en 1993 et 1994 selon l'express du 6 février m. juppé a déclaré au magistrat qu'entre 1993 et 1995 alors qu'il était ministre des affaires étrangères il n'avait pas été informé d'une affaire de ventes d'armes de cette ampleur si j ' en avais été informé j'aurais manifesté mon opposition a-t-il ajouté interrogé sur le rôle joué par charles pasqua alors ministre de l'intérieur et son conseiller jean-charles marchiani dans une mission de paix en angola m. juppé a affirmé cela me choque profondément je considère qu'il s'agit de diplomatie parallèle c'est la vocation du quai d'orsay de s'occuper de ce genre d'affaires a ajouté m. juppé s'il s'agit de rapprocher deux camps opposés dans un pays étranger cela relève du ministère des affaires étrangères et non du ministère de l'intérieur   \n",
              "24445                                                                                                                                                                                                                                                                                                                                                                                                                                                                                                                                                                                                                                                                                                                                                                                                                                                                                                                                                                                                                                                                                                                                                                                                                                                                                                                                                                                                                                                                                                                                                                                                                                                                                                                                                                                                                                                                                                                                                                                                                                                                                                                                                                                                                                                                                                                                                                                                                                                                                                                                                                                                                                                                                                                                                                                                                                                                                                                                                                                                                                                                                                                                                                                                                                                                                                                                                                                                                                                                                                                                                                                                                                                                                                                                                                                                                                                                                                                                                                                                                                                                                                                                                                                                                                                                                                                                                                                                                                                                                                                                                                                 perpignan sur la photo jérôme thion au deuxième plan et son adversaire mike o'driscoll vainqueur samedi 11 janvier de la province irlandaise du munster 23-8 est en ballottage pour les quarts de finale de la coupe d'europe de rugby pour accéder à la phase finale les catalans devront s'imposer sur le terrain des italiens de viadana le 18 janvier en inscrivant le plus d'essais possible le stade toulousain toujours invaincu vainqueur des gallois de newport samedi 70-18 est la seule équipe française assurée de participer aux quarts de finale deux autres clubs ont sérieusement hypothéqué leurs chances bourgoin battu à llanelli 37-22 et biarritz défait par northampton 17-14 ces deux équipes devront battre leurs prochains adversaires respectivement sale et cardiff samedi 18 janvier mais aussi compter sur des résultats favorables dans les autres rencontres béziers toujours en course attend encore que les terrains dégèlent pour affronter neath au pays de galles   \n",
              "14117  s'il lui arrive de balbutier l'histoire ne se répète jamais dans le cas des élections en californie après l'élection d'arnold schwarzenegger au poste de gouverneur de californie l'histoire une fois de plus apparaît sans précédent dès l'annonce de la candidature de l'acteur autrichien suite à la procédure de recall révocation lancée contre l'actuel gouverneur démocrate de la californie gray davis il était de bon ton de voir dans cette campagne électorale un nouvel épisode des fiançailles entre la politique et l ' entertainment une tradition aux etats-unis depuis l'élection de john f. kennedy en 1960 après tout schwarzenegger ne fait que succéder en californie à un autre acteur ronald reagan gouverneur de cet etat entre 1966 et 1974 l'aura de john f. kennedy comparable à celle d'une star de cinéma faisait dire à l'écrivain norman mailer que la politique américaine deviendrait désormais le film préféré des américains une prédiction lumineuse qui culmine avec le rapport starr et les démêlés du président bill clinton avec monica lewinsky ronald reagan président des etats-unis de 1980 à 1988 ne faisait pas mystère des liens évidents entre la politique et l'art de la comédie il y a des moments confiait l'ex-président au journaliste david brinkley où je me demandais comment il était possible de faire son travail de président sans avoir été acteur auparavant ronald reagan soulignait avec justesse une donnée majeure de la vie politique l'utilisation des techniques du show-business dans la conduite d'une campagne et d'un débat électoral arnold n'est pas reagan arnold schwarzenegger n'est pas ronald reagan ce dernier on ne le répétera jamais assez était à la grande différence de son successeur un homme politique aguerri quand il a été élu gouverneur de californie depuis 1947 et son arrivée à la tête de la screen actor 's guild le syndicat des acteurs américains son engagement dans la vie syndicale et politique américaine ne cessait de monter en puissance quand il se présente devant les électeurs californiens il est un acteur à la retraite oublié depuis longtemps qui allait se souvenir de l'acteur qui élevait un chimpanzé comme son enfant adoptif dans bedtime for bonzo ou interprétait dans prisoner of war un espion qui pénétrait dans un camp de rééducation en corée pour glisser dans l'oreille de ses compatriotes malmenés notre bon vieil oncle sam vaut mieux que leur oncle joe l'acteur reagan était en partie déconnecté des mémoires comme l'était sans doute la couleur des cravates vendues par richard nixon avant de se lancer dans une carrière politique c'est loin d'être le cas pour arnold schwarzenegger acteur iconique à la carrière certes déclinante mais dont l'identification au seul rôle de terminator le robot invincible sauveur de la race humaine l'impose comme un übermensch capable de résoudre les problèmes de la californie somme toute mineurs en regard des immenses difficultés toujours surmontées par l'acteur à l'écran la polémique autour de la qualité du programme proposé par le candidat arnold schwarzenegger apparaît avec le recul d'autant moins pertinente sans doute la majorité des électeurs californiens se moquaient-ils des nuances de ce programme sans doute ont-ils moins voté pour un candidat que pour une image susceptible d'accomplir dans la vie civile ce qu'elle réussit si bien à l'écran un golem en chair et en os mandaté pour résoudre les problèmes de ses citoyens guerre fratricide l'élection de la vedette de terminator ne marque pas après de longues fiançailles le mariage de la politique et du cinéma qui plus est dans un etat la californie centre névralgique de l'industrie cin '' matographique elle scelle au contraire leur divorce l'électeur de californie devait choisir après des décennies d'hésitation entre la politique ou le cinéma il a voté pour le cinéma pour saisir ce qui se déroule sous nos yeux il faut faire appel au simple bon sens et ouvrir le dictionnaire la politique est la gestion du possible le cinéma est au contraire l'art de l'impossible rien n'est plus éloigné du cinéma que la politique le processus démocratique est long pénible irritant et frustrant il reflète le désordre de la vie les films ceux de schwarzenegger en particulier vont toujours droit au but ils ignorent les méandres et les scories et se dirigent avec assurance vers une résolution le pouvoir des films d'action tient précisément à de tels raccourcis ils rendent la réalité moins amère et le fantasme plus réel dans son ouvrage life the movie éd knopf 1998 l'essayiste américain neal gabler montrait comment au cours du xxe siècle le cinéma et l ' entertainment avaient progressivement introduit une nouvelle vision du monde où nous nous conduisons comme les acteurs de notre existence désormais orchestrée à la manière d'un scénario ou d'un grand show selon lui nous nous situons soit à l'aube d'une ère nouvelle soit devant un précipice dans un article du los angeles times daté du 24 août neal gabler voyait dans la candidature de l'acteur américain le nouvel épisode d'une guerre fratricide à laquelle se livreraient désormais la politique et l ' entertainment un combat perdu par la politique et pour le politique après l'élection d'arnold schwarzenegger une chose au moins est certaine un analyste politique ne pourra plus se contenter de sa seule expertise il devra aussi devenir critique de cinéma   \n",
              "\n",
              "      category  \n",
              "16369      ENT  \n",
              "1755       ART  \n",
              "28946      INT  \n",
              "20311      ENT  \n",
              "29635      INT  \n",
              "...        ...  \n",
              "23181      SPO  \n",
              "700        INT  \n",
              "9467       FRA  \n",
              "24445      SPO  \n",
              "14117      INT  \n",
              "\n",
              "[100 rows x 2 columns]"
            ],
            "text/html": [
              "\n",
              "  <div id=\"df-6d61e42d-bfba-4fca-9425-adeac5611886\" class=\"colab-df-container\">\n",
              "    <div>\n",
              "<style scoped>\n",
              "    .dataframe tbody tr th:only-of-type {\n",
              "        vertical-align: middle;\n",
              "    }\n",
              "\n",
              "    .dataframe tbody tr th {\n",
              "        vertical-align: top;\n",
              "    }\n",
              "\n",
              "    .dataframe thead th {\n",
              "        text-align: right;\n",
              "    }\n",
              "</style>\n",
              "<table border=\"1\" class=\"dataframe\">\n",
              "  <thead>\n",
              "    <tr style=\"text-align: right;\">\n",
              "      <th></th>\n",
              "      <th>text</th>\n",
              "      <th>category</th>\n",
              "    </tr>\n",
              "  </thead>\n",
              "  <tbody>\n",
              "    <tr>\n",
              "      <th>16369</th>\n",
              "      <td>dans une lettre adressée au président de la commission européenne romano prodi le président de la république jacques chirac juge que certaines nouvelles normes comptables en cours d'adoption dans l'union européenne pour harmoniser les comptes des entreprises risquent de conduire à une financiarisation accrue de notre économie et à des méthodes de direction des entreprises privilégiant trop le court terme ces normes international accounting standards ias pourraient être applicables en 2005 pour 7 000 sociétés cotées la position de m. chirac reprend l'opinion de nombre de dirigeants qui craignent que la généralisation de la mesure des actifs à leur valeur de marché la juste valeur à chaque arrêté des comptes ne nourrisse la volatilité des bourses la commission qui partage la position française a précisé qu'elle venait à nouveau d'exprimer ses préoccupations dans une lettre à david tweedie président de l'organisme privé chargé d'élaborer ces normes l'international accounting standard board iasb celui-ci a répliqué dans le financial times que la crédibilité de l'iasb serait entachée si elle cédait aux pressions politiques le 16 juillet l'autorité de régulation comptable qui regroupe des représentants des quinze doit approuver ou non ces normes pour qu'elles deviennent juridiquement contraignantes</td>\n",
              "      <td>ENT</td>\n",
              "    </tr>\n",
              "    <tr>\n",
              "      <th>1755</th>\n",
              "      <td>galeriste à droebak près d'oslo vera olsnes va mettre en vente soixante-dix oeuvres de paul-rené gauguin mort en 1976 petit-fils du peintre paul gauguin qui s'était installé en norvège le produit de cette vente est destiné à financer des actions de la clinique saint-raphaël de bagdad administrée par des soeurs dominicaines le prix des peintures collages et statues de paul-rené gauguin devrait varier de 600 à 10 000 euros on peut voir quelques exemples du travail de l'artiste sur le site internet de la galleri vera www.verart.com le chanteur batteur acteur scénariste et réalisateur américain billy bob thornton s'apprête à se marier pour la sixième fois selon le magazine us weekly la nouvelle heureuse élue est danielle dotzenrod ancienne joueuse de volley-ball et actrice apparemment pas découragée par la propension de thornton à divorcer rapidement a l'exception de sa quatrième femme pietra dawn cherniak avec qui il a vécu plus de quatre ans de février 1993 à avril 1997 thornton n'a pas dépassé deux ans de vie maritale avec ses différentes épouses la dernière en date était l'actrice angelina jolie avec qui il s'était marié en mai 2000 le couple s'était séparé en juillet 2002 mais le jugement de divorce n'a toujours pas été officiellement prononcé la chanteuse américaine madonna et son dernier film swept away a la dérive réalisé par son mari guy ritchie ont triomphé samedi à la cérémonie des framboises d'or prix satiriques qui récompensent chaque année depuis vingt-trois ans à la veille des oscars les film et acteurs jugés les plus mauvais madonna l'a emporté dans la catégorie pire actrice ex aequo avec la chanteuse britney spears dans crossroad swept away a remporté le prix du pire film et du pire remake tandis que guy ritchie était désigné pire réalisateur la framboise d'or du pire acteur est allé à l'italien roberto benigni dans pinocchio l'écrivain espagnol jorge semprun et l'écrivain tchèque lenka reinerova ont reçu samedi 22 mars à weimar les médailles goethe 2003 qui récompensent des auteurs ayant oeuvré pour la promotion de la langue allemande et le dialogue entre les cultures jorge semprun ancien déporté au camp d'extermination nazi de buchenwald est distingué pour son engagement en faveur de l'identité européenne lenka reinerova dernier écrivain tchèque de praque à écrire en allemand est récompensée pour son importante contribution à la tolérance culturelle linguistique et religieuse a indiqué le jury reinerova née à prague en 1916 avait dû fuir son pays en 1939 à cause des nazis</td>\n",
              "      <td>ART</td>\n",
              "    </tr>\n",
              "    <tr>\n",
              "      <th>28946</th>\n",
              "      <td>les capitales européennes ont appelé lundi 29 décembre l'ensemble des forces démocratiques serbes à s'unir alors que la commission électorale confirmait la victoire du parti radical srs aux élections législatives de dimanche avec 81 sièges 27,3 des voix les ultranationalistes sont désormais les mieux représentés au parlement serbe devançant le parti démocratique de serbie dss de vojislav kostunica de 9 sièges 53 sièges 17,8 des voix tout en prenant note des résultats du scrutin notamment d'une participation plus importante que prévu 58,7 la commission européenne a émis lundi l'espoir qu'un gouvernement va émerger qui restera engagé dans le processus de réformes et sur le chemin de l'europe le porte-parole du ministère français des affaires étrangères a de son côté appelé les forces démocratiques à s'entendre rapidement pour former un gouvernement qui ait les moyens de poursuivre les réformes politiques économiques et sociales la tonalité était la même lundi à berlin où la ministre allemande de la coopération et du développement heidemarie wieczorek-zeul a manifesté une grande inquiétude au vu des résultats du scrutin lourd revers un sentiment partagé par javier solana le chef de la diplomatie européenne qui a appelé toutes les forces démocratiques à travailler ensemble pour s'assurer qu'un nouveau gouvernement avec des objectifs de réformes pro-européennes puisse être rapidement mis en place le message envoyé par la population serbe est un lourd revers pour la démocratie et pour l'europe le parti démocratique ds du premier ministre réformiste et pro-occidental assassiné zoran djindjic n'a remporté que 12,7 des votes et 37 sièges et le g17+ un groupement d'économistes libéraux de miroljub labus 11,6 des voix et 34 sièges par ailleurs l'europe devra attendre pour voir la serbie tourner le dos une fois pour toutes au nationalisme le chef de file le mieux représenté au parlement est vojislav seselj détenu à la haye tout comme slobodan milosevic inculpé de crimes de guerre et lui aussi élu député son parti le sps remportant 7,6 des voix et 22 sièges pour milanka saponja une analyste de l'international crisis group icg la percée des ultra-nationalistes constitue le plus grand défi adressé à l'europe depuis le refus en 1999 de slobodan milosevic alors président de la yougoslavie de retirer ses troupes du kosovo le parti radical a invité le parti démocratique serbe de vojislav kostunica à former un gouvernement de toute évidence son programme et le nôtre ont beaucoup de points communs qui nous permettraient de former le futur gouvernement a déclaré tomislav nikolic qui dirige les radicaux en l'absence de leur leader m. kostunica qui se définit lui-même comme un nationaliste modéré a réaffirmé qu'il ne formerait jamais une coalition avec les radicaux le parti radical pourrait alors s'allier avec les autres ultras une hypothèse que washington n'envisage pas il est probable que tout futur gouvernement sera issu de la majorité des partis de la transition démocratique a déclaré lundi le porte-parole du département d'etat américain adam ereli afp reuters ap</td>\n",
              "      <td>INT</td>\n",
              "    </tr>\n",
              "    <tr>\n",
              "      <th>20311</th>\n",
              "      <td>le pétrolier français a décidé de se retirer du marché de détail de l'électricité où il était présent depuis 2001 pour se recentrer sur celui du gaz</td>\n",
              "      <td>ENT</td>\n",
              "    </tr>\n",
              "    <tr>\n",
              "      <th>29635</th>\n",
              "      <td>genève le directeur général de l'omc supachai panitchpadki a admis mardi 9 décembre que l'organisation ne parviendra pas à un accord d'ici au 15 décembre après l'échec de la conférence de cancun en septembre les ministres avaient donné pour instruction à leurs ambassadeurs de parvenir à un compromis au plus tard à cette date pour permettre une relance des négociations multilatérales carlos perez del castillo qui préside le conseil général l'exécutif de l'omc et à ce titre dirige les négociations a confirmé le peu de progrès réalisés sur la voie d'une relance totale et reconnu qu'il faudra davantage de temps les discussions butent toujours sur l'agriculture les pays en développement exigeant que les pays riches éliminent leurs subventions à l'exportation comme ils avaient promis de le faire à doha l'union européenne refuse de faire plus de concessions que celle déjà annoncées dans le cadre de la réforme de la politique agricole commune pac le négociateur européen pascal lamy a toutefois indiqué que l'ue était prête à bouger sur certains sujets conflictuels comme ceux dits de singapour investissement concurrence facilitation du commerce et marchés publics le conseil général se réunira bien le 15 décembre comme prévu mais ne devait annoncer que la réactivation des huit groupes de négociations thématiques suspendus depuis cancun qui se réuniront à nouveau en février afp</td>\n",
              "      <td>INT</td>\n",
              "    </tr>\n",
              "    <tr>\n",
              "      <th>...</th>\n",
              "      <td>...</td>\n",
              "      <td>...</td>\n",
              "    </tr>\n",
              "    <tr>\n",
              "      <th>23181</th>\n",
              "      <td>la vie de surdoué n'est pas toujours aisée en nba le championnat de basket-ball professionnel américain où l'esprit de compétition est roi les exigences sont impressionnantes voilà pourquoi la tâche de tony parker le jeune meneur de jeu français des san antonio spurs n'est pas des plus faciles enorme surprise de la saison 2001-2002 qui vit ses débuts outre-atlantique il avait du haut de ses dix-neuf ans sidéré tous les observateurs par une vitesse et une maturité peu communes inconnu de la quasi-totalité des équipes le farfadet s'était fait un plaisir de disloquer les défenses adverses depuis la donne a quelque peu changé il y a beaucoup de pression maintenant les équipes me connaissent elles savent ce que j'aime faire les défenses sont plus serrées et c'est donc à moi de m'adapter maintenant explique tony parker je dois travailler en conséquence et faire évoluer mon jeu toujours en délicatesse avec son tir extérieur malgré de studieuses sessions estivales ses performances ont pesé très lourd sur le parcours de son équipe prétendante au titre la franchise texane éprouve toutes les difficultés à afficher une certaine régularité début décembre 2002 un bilan pourtant correct de 11 victoires pour 8 défaites avait provoqué quelques grincements de dents au sein de la direction et des fans j'ai été surpris de les voir peiner de la sorte confesse sean elliott joueur des spurs lors du titre obtenu en 1999 aujourd'hui commentateur sur la chaîne abc mais le niveau dans la ligue est de plus en plus serré tout le monde peut battre tout le monde toutes les équipes savent que lorsque vous arrêtez tim duncan la star de l'équipe cela bloque complètement le jeu des spurs fébrile aux lancers francs l'intérieur de san antonio mvp most valuable player meilleur joueur en titre tout en produisant de très bonnes statistiques n'affichait pas son aisance habituelle l'homme à tout faire des spurs a dû en plus composer avec un léger remaniement de l'équipe survenu pendant l'intersaison avec trois nouvelles adjonctions malgré cela c'est tony parker par sa position de chef d'orchestre qui a été mis sur le banc des accusés responsabilités énormes c'est moi qui prends toutes les critiques les gens attendent beaucoup les fans les coaches les dirigeants les journalistes tout le monde explique tony parker mais je le vis bien tout en reconnaissant les mérites de sa jeune star l'équipe technique des spurs stigmatise les scories encore présentes dans son jeu le vrai souci avec tony c'est qu'il y a des fois où après un premier quart temps où il n'a pas bien tiré il a tendance à baisser la tête et à ne plus avoir d'inspiration analyse mike brown assistant coach à san antonio mais il a des responsabilités énormes au regard de sa position il est une sorte de prolongation du coach sur le terrain c'est lui la tête pensante de l'équipe même si tout ne va pas bien dans sa vie dans son jeu il doit simuler le bien-être sinon il entraîne son équipe vers le bas aspirations offensives bridées a la décharge de tony parker évoluer dans le système rigoriste de l'entraîneur des spurs greg popovich n'est pas chose facile pour un meneur créatif seul joueur en dehors de tim duncan capable de créer son shoot et de marquer quand il le décide l'ancien stagiaire de l'insep institut national des sports et de l'éducation physique dans le bois de vincennes à paris n'a pourtant aucun système offensif conçu pour lui quand des meneurs chevronnés gary payton seattle jason kidd new jersey ou steve nash dallas disposent d'une totale liberté en attaque tony parker voit ses aspirations offensives bridées difficile dans ces conditions de trouver son rythme une fois sur les parquets leader par ses actions plus que par sa parole tony parker se voit également demander par son coach de forcer sa nature et de ne pas hésiter à l'occasion à réprimander tim duncan et david robinson vedettes régulièrement choisies parmi les all stars de nba c'est un travail difficile reconnaît le bras droit de popovich mike brown parce qu'il ne doit pas hésiter à leur hurler dessus de temps en temps et ce n'est pas évident pour lui il n'est pas encore bon dans ce secteur il doit se faire violence et les remettre à leur place quand ils ne jouent pas bien depuis deux semaines san antonio emmené par un tony parker pétillant a retrouvé une certaine constance avec un bilan de 20 victoires pour 13 défaites la 2e place de la conférence ouest et des succès de prestige sur des gros bras tels dallas et sacramento il faut laisser tony parker tranquille dit sean elliott il faut le laisser jouer parce qu'il connaît bien le jeu je n'ai jamais vu un joueur comme lui il est unique il a tout pour devenir un all star il a un feeling incroyable il sait quoi faire et à quel moment c'est un don et peu de personnes de son âge le possèdent</td>\n",
              "      <td>SPO</td>\n",
              "    </tr>\n",
              "    <tr>\n",
              "      <th>700</th>\n",
              "      <td>jamais l'amérique n'a été aussi divisée sur la politique étrangère depuis la guerre du vietnam au texas dans le fief de george bush c'est encore plus dur mais nous ne sommes pas tous des va-t-en-guerre lisa krebs est une étudiante de 21 ans de l'université du texas à austin comme toute sa génération ou presque elle a découvert la politique ces derniers mois l'irak est devenu le sujet de conversation principal dit-elle loin du texas de la bible et du fusil austin capitale de l'etat ville universitaire artistique scène musicale réputée surnommée silicon hills les collines de silicone au moment de l'explosion de la nouvelle économie revendique sa différence a 150 km du ranch de george bush son conseil municipal a voté au début du mois de février à l'unanimité une résolution symbolique demandant au gouvernement de ne pas attaquer l'irak plus de 10 000 personnes ont manifesté le 15 février contre la guerre aujourd'hui encore sur les pelouses de l'université dans la multitude de restaurants et bars aux alentours la ferveur anti-guerre est omniprésente le contraste est violent avec dallas san antonio ou houston le texas du big business et des eglises évangélistes l'etat plus grand que la france dont george bush a été gouverneur de 1994 à 2000 reste celui des exécutions capitales et des prêcheurs annonçant l'apocalypse dans leur grande majorité les autorités religieuses condamnent une attaque contre bagdad à l'exception de la southern baptist convention convention baptiste du sud qui recommande à ses 16 millions de membres d'envoyer des lettres d'encouragement à la maison blanche et de multiples eglises et sectes évangélistes qui pullulent au texas nous ne vivons pas dans l'univers du relativisme européen où les valeurs morales n'ont plus grand sens et les dictateurs sont préférés aux démocrates affirme richard land président de la commission sur l'éthique et les libertés religieuses de la southern baptist convention nous croyons profondément que certains actes sont bons et d'autres mauvais certains prêches texans comparent aujourd'hui l'union européenne à l'une des têtes du dragon du livre des révélations et les nations unies à la bête au service de l'antéchrist ces discours s'adressent surtout à quelques illuminés mais les etats-unis sont profondément religieux selon un récent sondage publié 46 des américains se décrivent comme né à nouveau ou évangélique en 1999 une autre étude d'opinion publiée par newsweek montrait que 71 des protestants évangéliques croyaient à l'apocalypse à la fin de ce monde lors d'une bataille à armageddon le nom déformé de la ville du nord d'israël de megiddo entre jésus et l'antéchrist la doctrine établie au xixe siècle par le pasteur irlandais john nelson darby a été adoptée par la plupart des eglises et des sectes protestantes fondamentalistes darrell bock professeur enseignant le nouveau testament au très austère dallas theological seminary séminaire théologique de dallas insiste sur le sentiment de nombreux chrétiens américains de vivre aujourd'hui un affrontement de civilisations avec l'islam il y a dans l'histoire récente une longue série de violences de l'islam envers les chrétiens et les juifs dit-il evidemment les attentats du 11 septembre ont contribué à élargir le fossé car ils sont revendiqués comme un acte religieux le dallas theological seminary considère que l'interprétation des écritures de john nelson darby est la bonne je ne crois pas qu'une guerre avec l'irak ait un lien direct avec armageddon estime robert hymers l'un des fondateurs de l'eglise fundamentalist baptist tabernacle c'est seulement une étape ajoute-t-il pour dailey smith autre pasteur de dallas une guerre pour chasser saddam hussein semble tout simplement juste et légitime quels que soient les liens entre al-qaida et saddam hussein ce dernier a démontré par le passé que cela ne le gênait pas de soutenir des organisations terroristes il est imprudent pour le gouvernement dont la mission est de protéger la population de parier sur la bonne volonté de saddam hussein nous encourageons ceux qui contestent la guerre à se rappeler les événements horribles du 11 septembre 2001 et à se plonger dans les écritures déclare ronn torossian responsable de la communication de la christian coalition coalition chrétienne un groupe créé par le célèbre télévangéliste pat robertson sans surprise à austin sur le campus de l'université le ton est très différent a en croire ses membres la campus coalition for peace and justice coalition du campus pour la paix et la justice ne cesse de recruter de nouveaux adhérents les gens commencent à se rendre compte que bombarder et tuer des civils innocents n'est pas forcément la meilleure chose à faire explique robert jensen étudiant en journalisme activiste spirituelle quiconque n'est pas d'accord est antipatriotique ou se trouve associé aux forces du mal s'emporte aliah selah qui se décrit comme une activiste spirituelle elle a décidé de faire l'amour seulement avec ceux qui font la paix et propose de faire fonctionner les automobiles à l'huile de soja moins folklorique david peterson étudiant en informatique se veut optimiste les sondages montrent qu'en dépit du matraquage 38 des personnes sont opposées à la guerre cela en fait d'ores et déjà l'opération militaire la plus impopulaire aux etats-unis de l'histoire avant qu'elle ait commencé</td>\n",
              "      <td>INT</td>\n",
              "    </tr>\n",
              "    <tr>\n",
              "      <th>9467</th>\n",
              "      <td>l'ancien premier ministre alain juppé a été interrogé en qualité de témoin le 14 janvier par le juge parisien philippe courroye dans le cadre de l'affaire falcone l'enquête sur les ventes d'armes vers l'angola en 1993 et 1994 selon l'express du 6 février m. juppé a déclaré au magistrat qu'entre 1993 et 1995 alors qu'il était ministre des affaires étrangères il n'avait pas été informé d'une affaire de ventes d'armes de cette ampleur si j ' en avais été informé j'aurais manifesté mon opposition a-t-il ajouté interrogé sur le rôle joué par charles pasqua alors ministre de l'intérieur et son conseiller jean-charles marchiani dans une mission de paix en angola m. juppé a affirmé cela me choque profondément je considère qu'il s'agit de diplomatie parallèle c'est la vocation du quai d'orsay de s'occuper de ce genre d'affaires a ajouté m. juppé s'il s'agit de rapprocher deux camps opposés dans un pays étranger cela relève du ministère des affaires étrangères et non du ministère de l'intérieur</td>\n",
              "      <td>FRA</td>\n",
              "    </tr>\n",
              "    <tr>\n",
              "      <th>24445</th>\n",
              "      <td>perpignan sur la photo jérôme thion au deuxième plan et son adversaire mike o'driscoll vainqueur samedi 11 janvier de la province irlandaise du munster 23-8 est en ballottage pour les quarts de finale de la coupe d'europe de rugby pour accéder à la phase finale les catalans devront s'imposer sur le terrain des italiens de viadana le 18 janvier en inscrivant le plus d'essais possible le stade toulousain toujours invaincu vainqueur des gallois de newport samedi 70-18 est la seule équipe française assurée de participer aux quarts de finale deux autres clubs ont sérieusement hypothéqué leurs chances bourgoin battu à llanelli 37-22 et biarritz défait par northampton 17-14 ces deux équipes devront battre leurs prochains adversaires respectivement sale et cardiff samedi 18 janvier mais aussi compter sur des résultats favorables dans les autres rencontres béziers toujours en course attend encore que les terrains dégèlent pour affronter neath au pays de galles</td>\n",
              "      <td>SPO</td>\n",
              "    </tr>\n",
              "    <tr>\n",
              "      <th>14117</th>\n",
              "      <td>s'il lui arrive de balbutier l'histoire ne se répète jamais dans le cas des élections en californie après l'élection d'arnold schwarzenegger au poste de gouverneur de californie l'histoire une fois de plus apparaît sans précédent dès l'annonce de la candidature de l'acteur autrichien suite à la procédure de recall révocation lancée contre l'actuel gouverneur démocrate de la californie gray davis il était de bon ton de voir dans cette campagne électorale un nouvel épisode des fiançailles entre la politique et l ' entertainment une tradition aux etats-unis depuis l'élection de john f. kennedy en 1960 après tout schwarzenegger ne fait que succéder en californie à un autre acteur ronald reagan gouverneur de cet etat entre 1966 et 1974 l'aura de john f. kennedy comparable à celle d'une star de cinéma faisait dire à l'écrivain norman mailer que la politique américaine deviendrait désormais le film préféré des américains une prédiction lumineuse qui culmine avec le rapport starr et les démêlés du président bill clinton avec monica lewinsky ronald reagan président des etats-unis de 1980 à 1988 ne faisait pas mystère des liens évidents entre la politique et l'art de la comédie il y a des moments confiait l'ex-président au journaliste david brinkley où je me demandais comment il était possible de faire son travail de président sans avoir été acteur auparavant ronald reagan soulignait avec justesse une donnée majeure de la vie politique l'utilisation des techniques du show-business dans la conduite d'une campagne et d'un débat électoral arnold n'est pas reagan arnold schwarzenegger n'est pas ronald reagan ce dernier on ne le répétera jamais assez était à la grande différence de son successeur un homme politique aguerri quand il a été élu gouverneur de californie depuis 1947 et son arrivée à la tête de la screen actor 's guild le syndicat des acteurs américains son engagement dans la vie syndicale et politique américaine ne cessait de monter en puissance quand il se présente devant les électeurs californiens il est un acteur à la retraite oublié depuis longtemps qui allait se souvenir de l'acteur qui élevait un chimpanzé comme son enfant adoptif dans bedtime for bonzo ou interprétait dans prisoner of war un espion qui pénétrait dans un camp de rééducation en corée pour glisser dans l'oreille de ses compatriotes malmenés notre bon vieil oncle sam vaut mieux que leur oncle joe l'acteur reagan était en partie déconnecté des mémoires comme l'était sans doute la couleur des cravates vendues par richard nixon avant de se lancer dans une carrière politique c'est loin d'être le cas pour arnold schwarzenegger acteur iconique à la carrière certes déclinante mais dont l'identification au seul rôle de terminator le robot invincible sauveur de la race humaine l'impose comme un übermensch capable de résoudre les problèmes de la californie somme toute mineurs en regard des immenses difficultés toujours surmontées par l'acteur à l'écran la polémique autour de la qualité du programme proposé par le candidat arnold schwarzenegger apparaît avec le recul d'autant moins pertinente sans doute la majorité des électeurs californiens se moquaient-ils des nuances de ce programme sans doute ont-ils moins voté pour un candidat que pour une image susceptible d'accomplir dans la vie civile ce qu'elle réussit si bien à l'écran un golem en chair et en os mandaté pour résoudre les problèmes de ses citoyens guerre fratricide l'élection de la vedette de terminator ne marque pas après de longues fiançailles le mariage de la politique et du cinéma qui plus est dans un etat la californie centre névralgique de l'industrie cin '' matographique elle scelle au contraire leur divorce l'électeur de californie devait choisir après des décennies d'hésitation entre la politique ou le cinéma il a voté pour le cinéma pour saisir ce qui se déroule sous nos yeux il faut faire appel au simple bon sens et ouvrir le dictionnaire la politique est la gestion du possible le cinéma est au contraire l'art de l'impossible rien n'est plus éloigné du cinéma que la politique le processus démocratique est long pénible irritant et frustrant il reflète le désordre de la vie les films ceux de schwarzenegger en particulier vont toujours droit au but ils ignorent les méandres et les scories et se dirigent avec assurance vers une résolution le pouvoir des films d'action tient précisément à de tels raccourcis ils rendent la réalité moins amère et le fantasme plus réel dans son ouvrage life the movie éd knopf 1998 l'essayiste américain neal gabler montrait comment au cours du xxe siècle le cinéma et l ' entertainment avaient progressivement introduit une nouvelle vision du monde où nous nous conduisons comme les acteurs de notre existence désormais orchestrée à la manière d'un scénario ou d'un grand show selon lui nous nous situons soit à l'aube d'une ère nouvelle soit devant un précipice dans un article du los angeles times daté du 24 août neal gabler voyait dans la candidature de l'acteur américain le nouvel épisode d'une guerre fratricide à laquelle se livreraient désormais la politique et l ' entertainment un combat perdu par la politique et pour le politique après l'élection d'arnold schwarzenegger une chose au moins est certaine un analyste politique ne pourra plus se contenter de sa seule expertise il devra aussi devenir critique de cinéma</td>\n",
              "      <td>INT</td>\n",
              "    </tr>\n",
              "  </tbody>\n",
              "</table>\n",
              "<p>100 rows × 2 columns</p>\n",
              "</div>\n",
              "    <div class=\"colab-df-buttons\">\n",
              "\n",
              "  <div class=\"colab-df-container\">\n",
              "    <button class=\"colab-df-convert\" onclick=\"convertToInteractive('df-6d61e42d-bfba-4fca-9425-adeac5611886')\"\n",
              "            title=\"Convert this dataframe to an interactive table.\"\n",
              "            style=\"display:none;\">\n",
              "\n",
              "  <svg xmlns=\"http://www.w3.org/2000/svg\" height=\"24px\" viewBox=\"0 -960 960 960\">\n",
              "    <path d=\"M120-120v-720h720v720H120Zm60-500h600v-160H180v160Zm220 220h160v-160H400v160Zm0 220h160v-160H400v160ZM180-400h160v-160H180v160Zm440 0h160v-160H620v160ZM180-180h160v-160H180v160Zm440 0h160v-160H620v160Z\"/>\n",
              "  </svg>\n",
              "    </button>\n",
              "\n",
              "  <style>\n",
              "    .colab-df-container {\n",
              "      display:flex;\n",
              "      gap: 12px;\n",
              "    }\n",
              "\n",
              "    .colab-df-convert {\n",
              "      background-color: #E8F0FE;\n",
              "      border: none;\n",
              "      border-radius: 50%;\n",
              "      cursor: pointer;\n",
              "      display: none;\n",
              "      fill: #1967D2;\n",
              "      height: 32px;\n",
              "      padding: 0 0 0 0;\n",
              "      width: 32px;\n",
              "    }\n",
              "\n",
              "    .colab-df-convert:hover {\n",
              "      background-color: #E2EBFA;\n",
              "      box-shadow: 0px 1px 2px rgba(60, 64, 67, 0.3), 0px 1px 3px 1px rgba(60, 64, 67, 0.15);\n",
              "      fill: #174EA6;\n",
              "    }\n",
              "\n",
              "    .colab-df-buttons div {\n",
              "      margin-bottom: 4px;\n",
              "    }\n",
              "\n",
              "    [theme=dark] .colab-df-convert {\n",
              "      background-color: #3B4455;\n",
              "      fill: #D2E3FC;\n",
              "    }\n",
              "\n",
              "    [theme=dark] .colab-df-convert:hover {\n",
              "      background-color: #434B5C;\n",
              "      box-shadow: 0px 1px 3px 1px rgba(0, 0, 0, 0.15);\n",
              "      filter: drop-shadow(0px 1px 2px rgba(0, 0, 0, 0.3));\n",
              "      fill: #FFFFFF;\n",
              "    }\n",
              "  </style>\n",
              "\n",
              "    <script>\n",
              "      const buttonEl =\n",
              "        document.querySelector('#df-6d61e42d-bfba-4fca-9425-adeac5611886 button.colab-df-convert');\n",
              "      buttonEl.style.display =\n",
              "        google.colab.kernel.accessAllowed ? 'block' : 'none';\n",
              "\n",
              "      async function convertToInteractive(key) {\n",
              "        const element = document.querySelector('#df-6d61e42d-bfba-4fca-9425-adeac5611886');\n",
              "        const dataTable =\n",
              "          await google.colab.kernel.invokeFunction('convertToInteractive',\n",
              "                                                    [key], {});\n",
              "        if (!dataTable) return;\n",
              "\n",
              "        const docLinkHtml = 'Like what you see? Visit the ' +\n",
              "          '<a target=\"_blank\" href=https://colab.research.google.com/notebooks/data_table.ipynb>data table notebook</a>'\n",
              "          + ' to learn more about interactive tables.';\n",
              "        element.innerHTML = '';\n",
              "        dataTable['output_type'] = 'display_data';\n",
              "        await google.colab.output.renderOutput(dataTable, element);\n",
              "        const docLink = document.createElement('div');\n",
              "        docLink.innerHTML = docLinkHtml;\n",
              "        element.appendChild(docLink);\n",
              "      }\n",
              "    </script>\n",
              "  </div>\n",
              "\n",
              "\n",
              "<div id=\"df-dd1e22b3-b387-4cbe-b69f-0c209ac9475d\">\n",
              "  <button class=\"colab-df-quickchart\" onclick=\"quickchart('df-dd1e22b3-b387-4cbe-b69f-0c209ac9475d')\"\n",
              "            title=\"Suggest charts\"\n",
              "            style=\"display:none;\">\n",
              "\n",
              "<svg xmlns=\"http://www.w3.org/2000/svg\" height=\"24px\"viewBox=\"0 0 24 24\"\n",
              "     width=\"24px\">\n",
              "    <g>\n",
              "        <path d=\"M19 3H5c-1.1 0-2 .9-2 2v14c0 1.1.9 2 2 2h14c1.1 0 2-.9 2-2V5c0-1.1-.9-2-2-2zM9 17H7v-7h2v7zm4 0h-2V7h2v10zm4 0h-2v-4h2v4z\"/>\n",
              "    </g>\n",
              "</svg>\n",
              "  </button>\n",
              "\n",
              "<style>\n",
              "  .colab-df-quickchart {\n",
              "      --bg-color: #E8F0FE;\n",
              "      --fill-color: #1967D2;\n",
              "      --hover-bg-color: #E2EBFA;\n",
              "      --hover-fill-color: #174EA6;\n",
              "      --disabled-fill-color: #AAA;\n",
              "      --disabled-bg-color: #DDD;\n",
              "  }\n",
              "\n",
              "  [theme=dark] .colab-df-quickchart {\n",
              "      --bg-color: #3B4455;\n",
              "      --fill-color: #D2E3FC;\n",
              "      --hover-bg-color: #434B5C;\n",
              "      --hover-fill-color: #FFFFFF;\n",
              "      --disabled-bg-color: #3B4455;\n",
              "      --disabled-fill-color: #666;\n",
              "  }\n",
              "\n",
              "  .colab-df-quickchart {\n",
              "    background-color: var(--bg-color);\n",
              "    border: none;\n",
              "    border-radius: 50%;\n",
              "    cursor: pointer;\n",
              "    display: none;\n",
              "    fill: var(--fill-color);\n",
              "    height: 32px;\n",
              "    padding: 0;\n",
              "    width: 32px;\n",
              "  }\n",
              "\n",
              "  .colab-df-quickchart:hover {\n",
              "    background-color: var(--hover-bg-color);\n",
              "    box-shadow: 0 1px 2px rgba(60, 64, 67, 0.3), 0 1px 3px 1px rgba(60, 64, 67, 0.15);\n",
              "    fill: var(--button-hover-fill-color);\n",
              "  }\n",
              "\n",
              "  .colab-df-quickchart-complete:disabled,\n",
              "  .colab-df-quickchart-complete:disabled:hover {\n",
              "    background-color: var(--disabled-bg-color);\n",
              "    fill: var(--disabled-fill-color);\n",
              "    box-shadow: none;\n",
              "  }\n",
              "\n",
              "  .colab-df-spinner {\n",
              "    border: 2px solid var(--fill-color);\n",
              "    border-color: transparent;\n",
              "    border-bottom-color: var(--fill-color);\n",
              "    animation:\n",
              "      spin 1s steps(1) infinite;\n",
              "  }\n",
              "\n",
              "  @keyframes spin {\n",
              "    0% {\n",
              "      border-color: transparent;\n",
              "      border-bottom-color: var(--fill-color);\n",
              "      border-left-color: var(--fill-color);\n",
              "    }\n",
              "    20% {\n",
              "      border-color: transparent;\n",
              "      border-left-color: var(--fill-color);\n",
              "      border-top-color: var(--fill-color);\n",
              "    }\n",
              "    30% {\n",
              "      border-color: transparent;\n",
              "      border-left-color: var(--fill-color);\n",
              "      border-top-color: var(--fill-color);\n",
              "      border-right-color: var(--fill-color);\n",
              "    }\n",
              "    40% {\n",
              "      border-color: transparent;\n",
              "      border-right-color: var(--fill-color);\n",
              "      border-top-color: var(--fill-color);\n",
              "    }\n",
              "    60% {\n",
              "      border-color: transparent;\n",
              "      border-right-color: var(--fill-color);\n",
              "    }\n",
              "    80% {\n",
              "      border-color: transparent;\n",
              "      border-right-color: var(--fill-color);\n",
              "      border-bottom-color: var(--fill-color);\n",
              "    }\n",
              "    90% {\n",
              "      border-color: transparent;\n",
              "      border-bottom-color: var(--fill-color);\n",
              "    }\n",
              "  }\n",
              "</style>\n",
              "\n",
              "  <script>\n",
              "    async function quickchart(key) {\n",
              "      const quickchartButtonEl =\n",
              "        document.querySelector('#' + key + ' button');\n",
              "      quickchartButtonEl.disabled = true;  // To prevent multiple clicks.\n",
              "      quickchartButtonEl.classList.add('colab-df-spinner');\n",
              "      try {\n",
              "        const charts = await google.colab.kernel.invokeFunction(\n",
              "            'suggestCharts', [key], {});\n",
              "      } catch (error) {\n",
              "        console.error('Error during call to suggestCharts:', error);\n",
              "      }\n",
              "      quickchartButtonEl.classList.remove('colab-df-spinner');\n",
              "      quickchartButtonEl.classList.add('colab-df-quickchart-complete');\n",
              "    }\n",
              "    (() => {\n",
              "      let quickchartButtonEl =\n",
              "        document.querySelector('#df-dd1e22b3-b387-4cbe-b69f-0c209ac9475d button');\n",
              "      quickchartButtonEl.style.display =\n",
              "        google.colab.kernel.accessAllowed ? 'block' : 'none';\n",
              "    })();\n",
              "  </script>\n",
              "</div>\n",
              "    </div>\n",
              "  </div>\n"
            ],
            "application/vnd.google.colaboratory.intrinsic+json": {
              "type": "dataframe",
              "summary": "{\n  \"name\": \"lemonde\",\n  \"rows\": 100,\n  \"fields\": [\n    {\n      \"column\": \"text\",\n      \"properties\": {\n        \"dtype\": \"string\",\n        \"samples\": [\n          \"dans son premier discours de premier ministre le g\\u00e9n\\u00e9ral khin nyunt a continu\\u00e9 d'ignorer les pressions internationales en faveur d'une lib\\u00e9ration de la dirigeante de l'opposition birmane aung san suu kyi d\\u00e9tenue depuis trois mois au pouvoir \\u00e0 rangoun depuis 1962 les militaires ont leur propre feuille de route et vont s'y tenir comme s'ils \\u00e9voluaient selon l'expression d'un expert de la birmanie sur une autre plan\\u00e8te ayant rev\\u00eatu l'uniforme pour pr\\u00e9senter son gouvernement samedi 30 ao\\u00fbt le nouveau premier ministre a annonc\\u00e9 une feuille de route pour la d\\u00e9mocratie en sept points depuis la r\\u00e9organisation du r\\u00e9gime qui a \\u00e9t\\u00e9 rapport\\u00e9e le 25 ao\\u00fbt khin nyunt a conserv\\u00e9 ses postes de chef des services de renseignements militaires et membre du conseil d'etat pour la paix et le d\\u00e9veloppement cepd le centre du pouvoir militaire birman le premier des points annonc\\u00e9s concerne la r\\u00e9union d\\u00e8s que possible selon une source officielle de la convention nationale suspendue en 1996 cette derni\\u00e8re devra d\\u00e9finir les principes de base \\u00e0 partir desquels sera \\u00e9labor\\u00e9 un projet de constitution soumis dans un deuxi\\u00e8me temps \\u00e0 r\\u00e9f\\u00e9rendum suivra l'\\u00e9lection d'un corps l\\u00e9gislatif qui d\\u00e9signera un gouvernement khin nyunt a toutefois pos\\u00e9 plusieurs conditions dont la tenue fructueuse de la convention nationale et l'application pas par pas du processus n\\u00e9cessaire \\u00e0 l'\\u00e9mergence d'un syst\\u00e8me d\\u00e9mocratique r\\u00e9el et disciplin\\u00e9 ces pr\\u00e9cautions s'accompagnent de l'absence de tout \\u00e9ch\\u00e9ancier et de toute mention d'une lib\\u00e9ration de mme suu kyi or la junte a reproch\\u00e9 \\u00e0 la c\\u00e9l\\u00e8bre opposante d'avoir fait capoter la convention nationale en retirant les repr\\u00e9sentants de son mouvement la ligue nationale pour la d\\u00e9mocratie lnd ils ont toujours refus\\u00e9 de reconna\\u00eetre le r\\u00e9sultat des \\u00e9lections de 1990 qui avaient donn\\u00e9 une victoire \\u00e9crasante au parti de mme suu kyi sommet de l'asean lundi 1er septembre rangoun a qualifi\\u00e9 de tout \\u00e0 fait bizarre une d\\u00e9claration du d\\u00e9partement d'etat am\\u00e9ricain qui la veille avait indiqu\\u00e9 que mme suu kyi aurait entam\\u00e9 une gr\\u00e8ve de la faim khin nyunt a rejet\\u00e9 sur des pressions ext\\u00e9rieures et le refus de la lnd de collaborer avec les militaires l'\\u00e9chec d'un dialogue entre le cepd et la lnd dans une allusion aux sanctions \\u00e9conomiques am\\u00e9ricaines entr\\u00e9es en vigueur le 28 ao\\u00fbt il a ajout\\u00e9 qu ' un soul\\u00e8vement r\\u00e9gional aura lieu si une superpuissance continue de nous pers\\u00e9cuter consid\\u00e9r\\u00e9 comme l'homme fort du r\\u00e9gime et connu pour son hostilit\\u00e9 \\u00e0 l'\\u00e9gard de mme suu kyi le g\\u00e9n\\u00e9ral than shwe a abandonn\\u00e9 \\u00e0 khin nyunt la direction du gouvernement mais il continue de cumuler les fonctions de chef de l'etat de commandant en chef des forces arm\\u00e9es et surtout de pr\\u00e9sident du cepd khin nyunt ne passe pas pour un mod\\u00e9r\\u00e9 apr\\u00e8s le r\\u00f4le qu'il a jou\\u00e9 dans la r\\u00e9pression de manifestations en 1988 r\\u00e9cemment le 31 mai il serait intervenu pour assurer la d\\u00e9tention pour sa propre protection de mme suu kyi ce jour-l\\u00e0 l'opposante avait \\u00e9t\\u00e9 arr\\u00eat\\u00e9e au cours de la brutale dispersion par des nervis du r\\u00e9gime du cort\\u00e8ge qui l'accompagnait dans le nord du pays cette agression qui aurait fait des dizaines de victimes avait provoqu\\u00e9 un toll\\u00e9 international pour la premi\\u00e8re fois les etats-unis avaient obtenu de l'association des nations de l'asie du sud-est asean dont la birmanie est membre qu'elle r\\u00e9clame la lib\\u00e9ration du prix nobel de la paix 1991 et l'ouverture d'un dialogue politique \\u00e0 rangoun depuis le premier ministre malaisien mahathir mohamad qui avait \\u00e9t\\u00e9 l'avocat de l'admission de la birmanie dans l'asean en 1997 a manifest\\u00e9 son d\\u00e9pit face \\u00e0 l'immobilisme des g\\u00e9n\\u00e9raux de rangoun en d\\u00e9clarant que l'association des nations de l'asie du sud-est pourrait en dernier recours exclure le pays les etats-unis ont eux notamment interdit toute importation venant de birmanie du coup le secteur textile birman qui emploie 200 000 petites mains est sinistr\\u00e9 et les usines commencent \\u00e0 fermer l'asean a souhait\\u00e9 que la lib\\u00e9ration de mme suu kyi intervienne avant son prochain sommet de bali d\\u00e9but octobre pour le moment le g\\u00e9n\\u00e9ral khin nyunt ne propose que la relance d'un processus institutionnel ouvert en 1993 abandonn\\u00e9 trois ann\\u00e9es plus tard et dont la reprise s'annonce \\u00e0 la fois peu avenante et bien longue dans son discours le premier ministre a parl\\u00e9 longuement des r\\u00e9alisations \\u00e9conomiques du r\\u00e9gime et de la pr\\u00e9servation de l'unit\\u00e9 d'un pays multiethnique en ce qui concerne un r\\u00e8glement politique il a affirm\\u00e9 que la junte avait tent\\u00e9 de guider la lnd en direction du changement politique mais que la ligue n'en avait fait qu'\\u00e0 sa t\\u00eate de sorte que la d\\u00e9mocratie qui \\u00e9tait presque \\u00e0 port\\u00e9e de main est redevenue distante a ajout\\u00e9 le nouveau premier ministre ...\",\n          \"l'as monaco a peut-\\u00eatre laiss\\u00e9 passer sa chance dans la course au titre en encaissant une nouvelle d\\u00e9faite \\u00e0 domicile face \\u00e0 l'ogc nice incapables de prendre en d\\u00e9faut la meilleure d\\u00e9fense du championnat les joueurs de didier deschamps ont encaiss\\u00e9 un but sign\\u00e9 kaba diawara \\u00e0 douze minutes du coup de sifflet final d\\u00e9j\\u00e0 battus au stade louis-ii par bordeaux les mon\\u00e9gasques peinent en cette fin de saison ce r\\u00e9sultat fait les affaires des champions de france en titre difficiles vainqueurs du havre \\u00e0 gerland les lyonnais de paul le guen ont repris la t\\u00eate du classement ils disputeront vendredi 11 avril un match vital \\u00e0 bordeaux face \\u00e0 un autre adversaire en course pour le titre en l'emportant \\u00e0 rennes gr\\u00e2ce notamment \\u00e0 un but de pauleta les girondins d'elie baup ont confirm\\u00e9 leurs ambitions ce qui n'a pas \\u00e9t\\u00e9 le cas de l'om d\\u00e9fait \\u00e0 domicile par guingamp devant 50 000 supporteurs ulc\\u00e9r\\u00e9s\",\n          \"la mission d'observation des pays nordiques slmm a rendu publiques mercredi 2 avril ses conclusions sur l'attaque d'un chalutier chinois qui avait caus\\u00e9 le 20 mars la mort de 17 personnes la mission d\\u00e9nonce des attaques visant \\u00e0 d\\u00e9stabiliser le cessez-le-feu et le processus de paix et cite des rescap\\u00e9s qui auraient reconnu des tigres des mers du ltte le mouvement de lib\\u00e9ration de l'eelam tamoul engag\\u00e9 dans des n\\u00e9gociations avec le gouvernement la marine sri-lankaise et le ltte ont d\\u00e9menti toute implication\"\n        ],\n        \"num_unique_values\": 100,\n        \"semantic_type\": \"\",\n        \"description\": \"\"\n      }\n    },\n    {\n      \"column\": \"category\",\n      \"properties\": {\n        \"dtype\": \"category\",\n        \"samples\": [\n          \"ENT\",\n          \"ART\",\n          \"SOC\"\n        ],\n        \"num_unique_values\": 7,\n        \"semantic_type\": \"\",\n        \"description\": \"\"\n      }\n    }\n  ]\n}"
            }
          },
          "metadata": {},
          "execution_count": 6
        }
      ],
      "source": [
        "# Print examples of the articles\n",
        "pd.set_option('display.max_colwidth', None)\n",
        "lemonde.sample(100)\n"
      ]
    },
    {
      "cell_type": "code",
      "source": [
        "!wget https://cloud.teklia.com/index.php/s/isNwnwA7a7AWst6/download/LeMonde2003_9classes.csv.gz\n"
      ],
      "metadata": {
        "colab": {
          "base_uri": "https://localhost:8080/"
        },
        "id": "p0BeKkPea4f3",
        "outputId": "8d552b7a-1768-4781-f18d-8fb6c5ae9cdb"
      },
      "execution_count": 7,
      "outputs": [
        {
          "output_type": "stream",
          "name": "stdout",
          "text": [
            "--2024-02-14 16:20:59--  https://cloud.teklia.com/index.php/s/isNwnwA7a7AWst6/download/LeMonde2003_9classes.csv.gz\n",
            "Resolving cloud.teklia.com (cloud.teklia.com)... 23.88.122.156\n",
            "Connecting to cloud.teklia.com (cloud.teklia.com)|23.88.122.156|:443... connected.\n",
            "HTTP request sent, awaiting response... 200 OK\n",
            "Length: 27187448 (26M) [application/gzip]\n",
            "Saving to: ‘LeMonde2003_9classes.csv.gz.1’\n",
            "\n",
            "LeMonde2003_9classe 100%[===================>]  25.93M  16.4MB/s    in 1.6s    \n",
            "\n",
            "2024-02-14 16:21:02 (16.4 MB/s) - ‘LeMonde2003_9classes.csv.gz.1’ saved [27187448/27187448]\n",
            "\n"
          ]
        }
      ]
    },
    {
      "cell_type": "code",
      "execution_count": null,
      "metadata": {
        "id": "neqQhAKeZWVH"
      },
      "outputs": [],
      "source": [
        "from wordcloud import WordCloud\n",
        "# Display one wordcloud for each of the most frequent classes\n",
        "\n",
        "from wordcloud import WordCloud\n",
        "STOPWORDS = [x.strip() for x in open('data/stop_word_fr.txt').readlines()]\n",
        "import matplotlib.pyplot as plt\n",
        "\n",
        "# plot a word cloud for each category\n",
        "for cat in ['ENT', 'INT',  'ART', 'SOC', 'FRA']:\n",
        " # YOUR CODE HERE"
      ]
    },
    {
      "cell_type": "markdown",
      "metadata": {
        "id": "Xa562OmZZWVH"
      },
      "source": [
        "## Bag-of-word representation\n",
        "\n",
        "In order to apply machine learning algorithms to text, documents must be transformed into vectors. The most simple and standard way to transform a document into a vector is the *bag-of-word* encoding.\n",
        "\n",
        "The idea is very simple :\n",
        "\n",
        "1. define the set of all the possible words that can appear in a document; denote its size by `max_features`.\n",
        "2. for each document,  encode it with a vector of size `max_features`, with the value of the ith component of the vector equal to the number of time the ith word appears in the document.\n",
        "\n",
        "See [the wikipedia article on Bag-of-word](https://en.wikipedia.org/wiki/Bag-of-words_model) for an example.\n",
        "\n",
        "Scikit-learn proposes different methods to encode text into vectors : [CountVectorizer](http://scikit-learn.org/stable/modules/generated/sklearn.feature_extraction.text.CountVectorizer.html) and [TfidfTransformer](http://scikit-learn.org/stable/modules/generated/sklearn.feature_extraction.text.TfidfTransformer.html).\n",
        "\n",
        "The encoder must first be trained on the train set and applied to the different sets, for example with the 200  words :\n",
        "\n",
        "\tfrom sklearn.feature_extraction.text import CountVectorizer\n",
        "\tvectorizer = CountVectorizer(max_features=200)\n",
        "    vectorizer.fit(X_train)\n",
        "    X_train_counts = vectorizer.transform(X_train)\n",
        "    X_test_counts = vectorizer.transform(X_test)\n",
        "        \n",
        "**Question**:\n",
        "\n",
        "> * Split the dataset LeMonde2003 into train set (80%), dev set (10%)  and test set (10%) using scikit-learn [train_test_split](http://scikit-learn.org/stable/modules/generated/sklearn.model_selection.train_test_split.html)\n",
        "> * For each set, transform the text of the articles into vectors using the `CountVectorizer`, considering the 1000 most frequent words.\n",
        "> * Train a naive bayes classifier on the data.\n",
        "> * Evaluate the classification accuracy on the train, dev and test sets using the [score](https://scikit-learn.org/stable/modules/generated/sklearn.naive_bayes.MultinomialNB.html#sklearn.naive_bayes.MultinomialNB.score) method.\n",
        "\n",
        "> ***Important*** : the test set must not be used during the training phase, and learning the vector representation of the words is part of the training. The dev set should be an evaluation of the test set.\n",
        "\n"
      ]
    },
    {
      "cell_type": "code",
      "execution_count": null,
      "metadata": {
        "id": "RazHA7JgZWVI"
      },
      "outputs": [],
      "source": [
        "from sklearn.model_selection import train_test_split\n",
        "# Split the dataset, create X (features) and y (target), print the size\n",
        "# YOUR CODE HERE\n"
      ]
    },
    {
      "cell_type": "code",
      "execution_count": null,
      "metadata": {
        "id": "-uhbT_chZWVI"
      },
      "outputs": [],
      "source": [
        "from sklearn.feature_extraction.text import CountVectorizer\n",
        "# Create document vectors\n",
        "# YOUR CODE HERE\n",
        "# create the vectorizer object\n",
        "\n",
        "# fit on train data\n",
        "\n",
        "# apply it on train and dev data\n"
      ]
    },
    {
      "cell_type": "code",
      "execution_count": null,
      "metadata": {
        "id": "Tcib-g4xZWVI"
      },
      "outputs": [],
      "source": [
        "from sklearn.naive_bayes import MultinomialNB\n",
        "# train a Naive Bayes classifier\n",
        "# YOUR CODE HERE\n",
        "# create the MultinomialNB\n",
        "\n",
        "# Train\n",
        "\n",
        "# Evaluate\n"
      ]
    },
    {
      "cell_type": "markdown",
      "metadata": {
        "id": "wLGoSUdxZWVI"
      },
      "source": [
        "## TF-IDF representation\n",
        "\n",
        "The `CountVectorizer` encodes the text using the raw frequencies of the words. However, words that are very frequent and appear in all the documents will have a strong weight whereas they are not discriminative. The *Term-Frequency Inverse-Document-Frequency* weighting scheme take into accound the number of documents in which a given word occurs. A word that appear in many document will have less weight. See [the wikipedia page](https://en.wikipedia.org/wiki/Tf%E2%80%93idf) for more details.\n",
        "\n",
        "With scikit-learn, the `TfidfTransformer` is applied after the `CountVectorizer` :\n",
        "\n",
        "\tfrom sklearn.feature_extraction.text import TfidfTransformer\n",
        "\ttf_transformer = TfidfTransformer().fit(X_train_counts)\n",
        " \tX_train_tf = tf_transformer.transform(X_train_counts)\n",
        "\tX_test_tf = tf_transformer.transform(X_test_counts)\n",
        "\n",
        "**Question**:\n",
        "\n",
        "> * Use the TF-IDF representation to train a Multinomial Naive Bayes classifier. Report your best test error rate and the error rates for all the configurations tested."
      ]
    },
    {
      "cell_type": "code",
      "execution_count": null,
      "metadata": {
        "id": "w3kHcM2XZWVJ"
      },
      "outputs": [],
      "source": [
        "from sklearn.feature_extraction.text import TfidfTransformer\n",
        "# YOUR CODE HERE\n"
      ]
    },
    {
      "cell_type": "markdown",
      "metadata": {
        "id": "0frk9yU4ZWVJ"
      },
      "source": [
        "## Error analysis\n",
        "\n",
        "The classification error rate give an evaluation of the performance for all the classes. But since the classes are not equally distributed, they may not be equally well modelized. In order to get a better idea of the performance of the classifier, detailed metrics must be used :\n",
        "\n",
        "* [metrics.classification_report](http://scikit-learn.org/stable/modules/generated/sklearn.metrics.classification_report.html) provides a detailed analysis per class : the precision (amongst all the example classified as class X, how many are really from the classX) and the recall (amongst all the example that are from the class X, how many are classified as class X) and the F-Score which is as a weighted harmonic mean of the precision and recall.\n",
        "* [metrics.confusion_matrix](http://scikit-learn.org/stable/modules/generated/sklearn.metrics.confusion_matrix.html) which give the confusions between the classes. It can be displayed in color with [plot_confusion_matrix](https://scikit-learn.org/stable/modules/generated/sklearn.metrics.plot_confusion_matrix.html#sklearn.metrics.plot_confusion_matrix).\n",
        "\n",
        "**Question**:\n",
        "\n",
        "> * Report the `classification_report` for your  classifier. Which classes have the best scores ? Why ?\n",
        "> * Report the `confusion_matrix` for your  classifier. Which classes are the most confused ? Why ?\n"
      ]
    },
    {
      "cell_type": "code",
      "execution_count": null,
      "metadata": {
        "id": "qJ_dTtaPZWVJ"
      },
      "outputs": [],
      "source": [
        "from sklearn.metrics import classification_report, ConfusionMatrixDisplay\n",
        "\n",
        "# YOUR CODE HERE\n",
        "\n"
      ]
    },
    {
      "cell_type": "markdown",
      "metadata": {
        "id": "ACRtvvPkZWVJ"
      },
      "source": [
        "## Data re-configuration\n",
        "After the error analysis, we came to the conclusion that one of the class can not be distinguised from the others. There is no use trying to solve an impossible problem.\n",
        "\n",
        "**Questions**:\n",
        "\n",
        "> * Remove the class `UNE` from the original dataset and merge the semantically close classes 'FRANCE' and 'SOCIETE'\n",
        "> * Plot the class statitics with seaborn\n",
        "> * Create new splits\n",
        "> * Retrain a NaiveBayes classifier using [TfidfVectorizer](https://scikit-learn.org/stable/modules/generated/sklearn.feature_extraction.text.TfidfVectorizer.html) with the 1000 most frequent words."
      ]
    },
    {
      "cell_type": "code",
      "execution_count": null,
      "metadata": {
        "id": "aXLk_vzfZWVJ"
      },
      "outputs": [],
      "source": [
        "from sklearn.feature_extraction.text import TfidfVectorizer\n",
        "# YOUR CODE HERE\n",
        "\n",
        "# Filter out the UNE class\n",
        "\n",
        "# Plot the statistics of classes\n",
        "\n",
        "# Make the splits and print the sizes for checking\n",
        "\n",
        "# Apply TfidfVectorizer\n",
        "\n",
        "# Train MultinomialNB\n",
        "\n",
        "# Print accuracy\n",
        "\n",
        "# Print confusion matric\n"
      ]
    },
    {
      "cell_type": "markdown",
      "metadata": {
        "id": "psYKtVdpZWVK"
      },
      "source": [
        "## What about the LLMs?\n",
        "\n",
        "**You must write the answer to this question in a notebook hosted in your github account and give access to your supervisor.**\n",
        "\n",
        "LLMs are reputed to have revolutionised automatic language processing. Since the introduction of BERT-type models, all language processing applications have been based on LLMs, of varying degrees of sophistication and size. These models are trained on multiple tasks and are therefore capable of performing new tasks without learning, simply from a prompt. This is known as \"zero-shot learning\" because there is no learning phase as such. We are going to test these models on our classification task.\n",
        "\n",
        "Huggingface is a Franco-American company that develops tools for building applications based on Deep Learning. In particular, it hosts the huggingface.co portal, which contains numerous Deep Learning models. These models can be used very easily thanks to the [Transformer] library (https://huggingface.co/docs/transformers/quicktour) developed by HuggingFace.\n",
        "\n",
        "Using a transform model in zero-shot learning with HuggingFace is very simple: [see documentation](https://huggingface.co/tasks/zero-shot-classification)\n",
        "\n",
        "However, you need to choose a suitable model from the list of models compatible with Zero-Shot classification. HuggingFace offers [numerous models](https://huggingface.co/models?pipeline_tag=zero-shot-classification).\n",
        "\n",
        "The classes proposed to the model must also provide sufficient semantic information for the model to understand them.\n",
        "\n",
        "**Question**:\n",
        "\n",
        "* Write a code to classify an example of text from an article in Le Monde using a model transformed using zero-sot learning with the HuggingFace library.\n",
        "* choose a model and explain your choice\n",
        "* choose a formulation for the classes to be predicted\n",
        "* show that the model predicts a class for the text of the article (correct or incorrect, analyse the results)\n",
        "* evaluate the performance of your model on 100 articles (a test set).\n",
        "* note model sizes, processing times and classification results\n",
        "\n",
        "\n",
        "Notes :\n",
        "* make sure that you use the correct Tokenizer when using a model\n",
        "* start testing with a small number of articles and the first 100's of characters for faster experiments."
      ]
    },
    {
      "cell_type": "code",
      "execution_count": null,
      "metadata": {
        "id": "tUXlWEGpZWVK"
      },
      "outputs": [],
      "source": []
    }
  ],
  "metadata": {
    "kernelspec": {
      "display_name": "nlp-class-env",
      "language": "python",
      "name": "nlp-class-env"
    },
    "language_info": {
      "codemirror_mode": {
        "name": "ipython",
        "version": 3
      },
      "file_extension": ".py",
      "mimetype": "text/x-python",
      "name": "python",
      "nbconvert_exporter": "python",
      "pygments_lexer": "ipython3",
      "version": "3.10.9"
    },
    "colab": {
      "provenance": [],
      "toc_visible": true,
      "include_colab_link": true
    }
  },
  "nbformat": 4,
  "nbformat_minor": 0
}